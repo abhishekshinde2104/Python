{
 "cells": [
  {
   "cell_type": "code",
   "execution_count": 1,
   "metadata": {},
   "outputs": [],
   "source": [
    "\n"
   ]
  },
  {
   "cell_type": "code",
   "execution_count": null,
   "metadata": {},
   "outputs": [],
   "source": [
    "import difflib\n",
    "from difflib import SequenceMatcher\n",
    "from difflib import get_close_matches"
   ]
  },
  {
   "cell_type": "code",
   "execution_count": null,
   "metadata": {},
   "outputs": [],
   "source": [
    "help(get_close_matches)"
   ]
  },
  {
   "cell_type": "code",
   "execution_count": null,
   "metadata": {},
   "outputs": [],
   "source": [
    "get_close_matches(\"apple\",[\"app\",\"appel\",\"apel\"],n=3,cutoff=0.8)"
   ]
  },
  {
   "cell_type": "code",
   "execution_count": null,
   "metadata": {},
   "outputs": [],
   "source": [
    "help(SequenceMatcher)"
   ]
  },
  {
   "cell_type": "code",
   "execution_count": null,
   "metadata": {},
   "outputs": [],
   "source": [
    "import json\n",
    "import difflib\n",
    "from difflib import SequenceMatcher\n",
    "from difflib import get_close_matches\n",
    "\n",
    "data=json.load(open(\"data.json\")) #data here is of dictionary type\n",
    "\n",
    "def translate(w):  #function for finding meaning\n",
    "    w=w.lower()    #case sensitivity is made out of way\n",
    "    ls=get_close_matches(w,data.keys())\n",
    "    print(ls)\n",
    "    \n",
    "    if w in data:\n",
    "        return data[w] #this is how we search a key in a dictionary\n",
    "    \n",
    "    elif len(ls)> 0 :\n",
    "        choice=input(\"Did you mean %s instead , is Yes Y or No N :  \" %ls[0])\n",
    "        choice=choice.lower()\n",
    "        if choice=='y':\n",
    "            return data[ls[0]]\n",
    "        elif choice=='n':\n",
    "            print(\"The word doesnt exist pls check it .\")\n",
    "        else:\n",
    "            print(\"Wrong entry of the word\")\n",
    "    \n",
    "    else:\n",
    "        print(\"No such word present\")\n",
    "        \n",
    "word=input(\"Enter the word whose meaning you want :\") \n",
    "lst=translate(word)\n",
    "i=0\n",
    "if type(lst)==list: \n",
    "    for item in lst:\n",
    "        print(item)\n",
    "        \n",
    "else:\n",
    "    print(lst)\n",
    "    "
   ]
  },
  {
   "cell_type": "code",
   "execution_count": null,
   "metadata": {},
   "outputs": [],
   "source": []
  },
  {
   "cell_type": "code",
   "execution_count": null,
   "metadata": {},
   "outputs": [],
   "source": []
  }
 ],
 "metadata": {
  "kernelspec": {
   "display_name": "Python 3",
   "language": "python",
   "name": "python3"
  },
  "language_info": {
   "codemirror_mode": {
    "name": "ipython",
    "version": 3
   },
   "file_extension": ".py",
   "mimetype": "text/x-python",
   "name": "python",
   "nbconvert_exporter": "python",
   "pygments_lexer": "ipython3",
   "version": "3.7.3"
  }
 },
 "nbformat": 4,
 "nbformat_minor": 2
}
