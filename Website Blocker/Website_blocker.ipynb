{
 "cells": [
  {
   "cell_type": "code",
   "execution_count": null,
   "metadata": {},
   "outputs": [
    {
     "name": "stdout",
     "output_type": "stream",
     "text": [
      "Fun Hours....\n",
      "Fun Hours....\n",
      "Fun Hours....\n",
      "Fun Hours....\n",
      "Fun Hours....\n",
      "Fun Hours....\n",
      "Fun Hours....\n",
      "Fun Hours....\n",
      "Fun Hours....\n",
      "Fun Hours....\n",
      "Fun Hours....\n",
      "Fun Hours....\n",
      "Fun Hours....\n",
      "Fun Hours....\n",
      "Fun Hours....\n",
      "Fun Hours....\n",
      "Fun Hours....\n",
      "Fun Hours....\n",
      "Fun Hours....\n",
      "Fun Hours....\n"
     ]
    }
   ],
   "source": [
    "import time\n",
    "from datetime import datetime as dt\n",
    "\n",
    "data_path=\"C:\\Windows\\System32\\drivers\\etc\\hosts\"\n",
    "host_temp=\"D:\\hosts\"\n",
    "\n",
    "redirect=\"127.0.0.1\"\n",
    "website_list=[\"www.facebook.com\",\"facebook.com\",\"twitter.com\",\"www.twitter.com\"]\n",
    "\n",
    "while True:\n",
    "    if dt(dt.now().year,dt.now().month,dt.now().day,8) < dt.now() <dt(dt.now().year,dt.now().month,dt.now().day,12):\n",
    "        print(\"Working Houes\")\n",
    "        with open(host_temp,'r+') as file:\n",
    "            content=file.read()\n",
    "            for website in website_list :\n",
    "                if website in content : \n",
    "                    pass\n",
    "                else :\n",
    "                    file.write(redirect + \" \" + website + \"\\n\")\n",
    "            \n",
    "        \n",
    "    else :\n",
    "        print(\"Fun Hours....\")\n",
    "        with open(host_temp,'r+') as real :\n",
    "            content=real.readlines()\n",
    "            temp = open(\"temporary.txt\",'w+')\n",
    "            for website in website_list :\n",
    "                if website not in content :\n",
    "                    for word in content :  \n",
    "                        temp.write(word)\n",
    "\n",
    "    time.sleep(5)    "
   ]
  },
  {
   "cell_type": "code",
   "execution_count": null,
   "metadata": {},
   "outputs": [],
   "source": []
  },
  {
   "cell_type": "code",
   "execution_count": null,
   "metadata": {},
   "outputs": [],
   "source": []
  }
 ],
 "metadata": {
  "kernelspec": {
   "display_name": "Python 3",
   "language": "python",
   "name": "python3"
  },
  "language_info": {
   "codemirror_mode": {
    "name": "ipython",
    "version": 3
   },
   "file_extension": ".py",
   "mimetype": "text/x-python",
   "name": "python",
   "nbconvert_exporter": "python",
   "pygments_lexer": "ipython3",
   "version": "3.7.3"
  }
 },
 "nbformat": 4,
 "nbformat_minor": 2
}
